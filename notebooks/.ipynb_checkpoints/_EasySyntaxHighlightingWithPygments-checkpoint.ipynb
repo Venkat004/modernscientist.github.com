{
 "metadata": {
  "name": ""
 },
 "nbformat": 3,
 "nbformat_minor": 0,
 "worksheets": [
  {
   "cells": [
    {
     "cell_type": "markdown",
     "metadata": {},
     "source": [
      "# Easy Syntax Highlighting With Pygments\n",
      "*This notebook first appeared as a [blog](http://themodernscientist.com/posts/2013/2013-10-20-easy_syntax_highlighting_with_pygments/) post on [themodernscientist](http://themodernscientist.com).  \n",
      "License: [BSD](http://opensource.org/licenses/BSD-3-Clause) (C) 2013, Michelle L. Gill. Feel free to use, distribute, and modify with the above attribution.*"
     ]
    },
    {
     "cell_type": "markdown",
     "metadata": {},
     "source": [
      "As a scientist who splits her time between both wet lab and computational work, I have learned the importance of saving code snippets for future reference. These snippets are handy when I later can't recall a clever Pandas [indexing trick](http://pandas.pydata.org/pandas-docs/stable/indexing.html) or when I want to share code with a colleague."
     ]
    },
    {
     "cell_type": "markdown",
     "metadata": {},
     "source": [
      "I spend most of my time writing code in text editors that have syntax highlighting and I prefer my snippets similarly highlighted. While there are many syntax highlighting engines and websites in existence, one of the most powerful engines happens to be [Pygments](http://pygments.org/), which is python-based, as the name implies."
     ]
    },
    {
     "cell_type": "markdown",
     "metadata": {},
     "source": [
      "Pygments supports an [incredible list](http://pygments.org/languages/) of input languages, called lexers, and has numerous [formatters](http://pygments.org/docs/formatters/) for output. There are also many options available for output [colors and styles](http://pygments.org/docs/styles/). All of these aspects are customizable as well. Lastly, Pygments has few dependencies and can be installed using `easy_install` or MacPorts.\n",
      "\n",
      "While Pygments does include many styles, including my favorite, [Monokai](http://www.monokai.nl/blog/2006/07/15/textmate-color-theme), it doesn't have a version of Monokai with a light background. For storing and sharing snippets, I prefer a light background to a dark one. So, I created my own Monokai Light style based on the color scheme [here](https://bitbucket.org/sjl/stevelosh/src/a30885eba5d365da12b264d4beac7596ce1b6ada/media/css/pygments-monokai-light.css?at=default). The style I created can be downloaded [directly](https://github.com/mlgill/macports-pygments-monokailight/blob/master/files/monokailight/monokailight.py) and placed in the style directory within Pygments or it can be installed using MacPorts by cloning this [GitHub repository](https://github.com/mlgill/macports-pygments-monokailight).\n",
      "\n",
      "Pygments can be run from within a python script or from the terminal using a helper command called `pygmentize`. Both methods are demonstrated for comparison.\n",
      "\n",
      "## Input the Python Snippet\n",
      "\n",
      "The code snippet to be highlighted will usually reside in a file or on the clipboard. For the purpose of a self-contained tutorial, it will be input as a string. Since this is predominantly a python blog, it is easy to guess which language is being used."
     ]
    },
    {
     "cell_type": "code",
     "collapsed": false,
     "input": [
      "python_snippet = r\"\"\"\n",
      "#!/usr/bin/env python\n",
      "\n",
      "import numpy as np\n",
      "\n",
      "A = np.random.random((4,4))\n",
      "Ainv = np.linalg.inv(A)\n",
      "\n",
      "print 'A ', A\n",
      "print 'Ainv', Ainv\n",
      "print 'A*Ainv', np.dot(A,Ainv)\"\"\""
     ],
     "language": "python",
     "metadata": {},
     "outputs": [],
     "prompt_number": 31
    },
    {
     "cell_type": "markdown",
     "metadata": {},
     "source": [
      "## Syntax Highlighting in Python\n",
      "\n",
      "Pygments is a python module and can be used in the usual fashion to perform syntax highlighting within a python script. This requires the highlighter, lexer, and formatter to be imported. Several formatter options must also be set. First, `full=True` is required to output html with a complete header. Syntax highlighting won't work without this option. Second, the selected style is specified with `style=monokailight`."
     ]
    },
    {
     "cell_type": "code",
     "collapsed": false,
     "input": [
      "from pygments import highlight\n",
      "from pygments.lexers import PythonLexer\n",
      "from pygments.formatters import HtmlFormatter\n",
      "html_text = highlight(python_snippet,PythonLexer(),HtmlFormatter(full=True,style='monokailight'))"
     ],
     "language": "python",
     "metadata": {},
     "outputs": [],
     "prompt_number": 32
    },
    {
     "cell_type": "markdown",
     "metadata": {},
     "source": [
      "Normally, the output would be saved to a file or sent to the clipboard. For this tutorial, it will be displayed using the `HTML` command, which is one of IPython's powerful [display options](http://nbviewer.ipython.org/urls/raw.github.com/ipython/ipython/1.x/examples/notebooks/Part%205%20-%20Rich%20Display%20System.ipynb)."
     ]
    },
    {
     "cell_type": "code",
     "collapsed": false,
     "input": [
      "from IPython.core.display import HTML\n",
      "HTML(html_text)"
     ],
     "language": "python",
     "metadata": {},
     "outputs": [
      {
       "html": [
        "<!DOCTYPE html PUBLIC \"-//W3C//DTD HTML 4.01//EN\"\n",
        "   \"http://www.w3.org/TR/html4/strict.dtd\">\n",
        "\n",
        "<html>\n",
        "<head>\n",
        "  <title></title>\n",
        "  <meta http-equiv=\"content-type\" content=\"text/html; charset=None\">\n",
        "  <style type=\"text/css\">\n",
        "td.linenos { background-color: #f0f0f0; padding-right: 10px; }\n",
        "span.lineno { background-color: #f0f0f0; padding: 0 5px 0 5px; }\n",
        "pre { line-height: 125%; }\n",
        "body .hll { background-color: #e6e3c3 }\n",
        "body  { background: #fafafa; color: #272822 }\n",
        "body .c { color: #75715e } /* Comment */\n",
        "body .err { color: #960050; background-color: #1e0010 } /* Error */\n",
        "body .k { color: #00a8c8 } /* Keyword */\n",
        "body .l { color: #ae81ff } /* Literal */\n",
        "body .n { color: #111111 } /* Name */\n",
        "body .o { color: #f92672 } /* Operator */\n",
        "body .p { color: #111111 } /* Punctuation */\n",
        "body .cm { color: #75715e } /* Comment.Multiline */\n",
        "body .cp { color: #75715e } /* Comment.Preproc */\n",
        "body .c1 { color: #75715e } /* Comment.Single */\n",
        "body .cs { color: #75715e } /* Comment.Special */\n",
        "body .ge { font-style: italic } /* Generic.Emph */\n",
        "body .gs { font-weight: bold } /* Generic.Strong */\n",
        "body .kc { color: #00a8c8 } /* Keyword.Constant */\n",
        "body .kd { color: #00a8c8 } /* Keyword.Declaration */\n",
        "body .kn { color: #f92672 } /* Keyword.Namespace */\n",
        "body .kp { color: #00a8c8 } /* Keyword.Pseudo */\n",
        "body .kr { color: #00a8c8 } /* Keyword.Reserved */\n",
        "body .kt { color: #00a8c8 } /* Keyword.Type */\n",
        "body .ld { color: #d88200 } /* Literal.Date */\n",
        "body .m { color: #ae81ff } /* Literal.Number */\n",
        "body .s { color: #d88200 } /* Literal.String */\n",
        "body .na { color: #75af00 } /* Name.Attribute */\n",
        "body .nb { color: #111111 } /* Name.Builtin */\n",
        "body .nc { color: #75af00 } /* Name.Class */\n",
        "body .no { color: #00a8c8 } /* Name.Constant */\n",
        "body .nd { color: #75af00 } /* Name.Decorator */\n",
        "body .ni { color: #111111 } /* Name.Entity */\n",
        "body .ne { color: #75af00 } /* Name.Exception */\n",
        "body .nf { color: #75af00 } /* Name.Function */\n",
        "body .nl { color: #111111 } /* Name.Label */\n",
        "body .nn { color: #111111 } /* Name.Namespace */\n",
        "body .nx { color: #75af00 } /* Name.Other */\n",
        "body .py { color: #111111 } /* Name.Property */\n",
        "body .nt { color: #f92672 } /* Name.Tag */\n",
        "body .nv { color: #111111 } /* Name.Variable */\n",
        "body .ow { color: #f92672 } /* Operator.Word */\n",
        "body .w { color: #272822 } /* Text.Whitespace */\n",
        "body .mf { color: #ae81ff } /* Literal.Number.Float */\n",
        "body .mh { color: #ae81ff } /* Literal.Number.Hex */\n",
        "body .mi { color: #ae81ff } /* Literal.Number.Integer */\n",
        "body .mo { color: #ae81ff } /* Literal.Number.Oct */\n",
        "body .sb { color: #d88200 } /* Literal.String.Backtick */\n",
        "body .sc { color: #d88200 } /* Literal.String.Char */\n",
        "body .sd { color: #d88200 } /* Literal.String.Doc */\n",
        "body .s2 { color: #d88200 } /* Literal.String.Double */\n",
        "body .se { color: #8045FF } /* Literal.String.Escape */\n",
        "body .sh { color: #d88200 } /* Literal.String.Heredoc */\n",
        "body .si { color: #d88200 } /* Literal.String.Interpol */\n",
        "body .sx { color: #d88200 } /* Literal.String.Other */\n",
        "body .sr { color: #d88200 } /* Literal.String.Regex */\n",
        "body .s1 { color: #d88200 } /* Literal.String.Single */\n",
        "body .ss { color: #d88200 } /* Literal.String.Symbol */\n",
        "body .bp { color: #111111 } /* Name.Builtin.Pseudo */\n",
        "body .vc { color: #111111 } /* Name.Variable.Class */\n",
        "body .vg { color: #111111 } /* Name.Variable.Global */\n",
        "body .vi { color: #111111 } /* Name.Variable.Instance */\n",
        "body .il { color: #ae81ff } /* Literal.Number.Integer.Long */\n",
        "\n",
        "  </style>\n",
        "</head>\n",
        "<body>\n",
        "<h2></h2>\n",
        "\n",
        "<div class=\"highlight\"><pre><span class=\"c\">#!/usr/bin/env python</span>\n",
        "\n",
        "<span class=\"kn\">import</span> <span class=\"nn\">numpy</span> <span class=\"kn\">as</span> <span class=\"nn\">np</span>\n",
        "\n",
        "<span class=\"n\">A</span> <span class=\"o\">=</span> <span class=\"n\">np</span><span class=\"o\">.</span><span class=\"n\">random</span><span class=\"o\">.</span><span class=\"n\">random</span><span class=\"p\">((</span><span class=\"mi\">4</span><span class=\"p\">,</span><span class=\"mi\">4</span><span class=\"p\">))</span>\n",
        "<span class=\"n\">Ainv</span> <span class=\"o\">=</span> <span class=\"n\">np</span><span class=\"o\">.</span><span class=\"n\">linalg</span><span class=\"o\">.</span><span class=\"n\">inv</span><span class=\"p\">(</span><span class=\"n\">A</span><span class=\"p\">)</span>\n",
        "\n",
        "<span class=\"k\">print</span> <span class=\"s\">&#39;A &#39;</span><span class=\"p\">,</span> <span class=\"n\">A</span>\n",
        "<span class=\"k\">print</span> <span class=\"s\">&#39;Ainv&#39;</span><span class=\"p\">,</span> <span class=\"n\">Ainv</span>\n",
        "<span class=\"k\">print</span> <span class=\"s\">&#39;A*Ainv&#39;</span><span class=\"p\">,</span> <span class=\"n\">np</span><span class=\"o\">.</span><span class=\"n\">dot</span><span class=\"p\">(</span><span class=\"n\">A</span><span class=\"p\">,</span><span class=\"n\">Ainv</span><span class=\"p\">)</span>\n",
        "</pre></div>\n",
        "</body>\n",
        "</html>\n"
       ],
       "metadata": {},
       "output_type": "pyout",
       "prompt_number": 33,
       "text": [
        "<IPython.core.display.HTML at 0x10fee9ed0>"
       ]
      }
     ],
     "prompt_number": 33
    },
    {
     "cell_type": "markdown",
     "metadata": {},
     "source": [
      "## Highlighting in the Terminal Using Pygmentize\n",
      "\n",
      "The most common way I used Pygments is from the terminal via `pygmentize`, which is an accessory command to Pygments. Here is an example with options similar to those used in the python code above:\n",
      "\n",
      "```bash\n",
      "pygmentize -f html -l python -O full,style=monokailight -o ./python_snippet.html ./python_snippet.py\n",
      "```\n",
      "\n",
      "This command will read the file `python_snippet.py` and output syntax highlighted html to `python_snippet.html`. If the output file is omitted, the html result is returned to the terminal as output.\n",
      "\n",
      "On Mac OS X, code snippets can be copied to the clipboard, sent to `pygmentize`, and the highlighted result returned to the clipboard.\n",
      "\n",
      "```bash\n",
      "pbpaste | pygmentize -f html -l python -O full,style=monokailight | pbcopy\n",
      "```\n",
      "\n",
      "## Customizing Output: Adding Line Numbers\n",
      "\n",
      "There are various options for altering the appearance of the output. Line numbers are one common option, and they can be added with `linenos=True`."
     ]
    },
    {
     "cell_type": "code",
     "collapsed": false,
     "input": [
      "html_text_lines = highlight(python_text,PythonLexer(),HtmlFormatter(full=True,style='monokailight',linenos=True))"
     ],
     "language": "python",
     "metadata": {},
     "outputs": [],
     "prompt_number": 34
    },
    {
     "cell_type": "markdown",
     "metadata": {},
     "source": [
      "Line numbers can be included in `pygmentize` output by adding the option `linenos=1`.\n",
      "\n",
      "```bash\n",
      "pygmentize -f html -l python -O full,style=monokailight,linenos=1 -o ./python_snippet_linenos.html ./python_snippet.py\n",
      "```\n",
      "\n",
      "Here is the result with line numbers:"
     ]
    },
    {
     "cell_type": "code",
     "collapsed": false,
     "input": [
      "HTML(html_text_lines)"
     ],
     "language": "python",
     "metadata": {},
     "outputs": [
      {
       "html": [
        "<!DOCTYPE html PUBLIC \"-//W3C//DTD HTML 4.01//EN\"\n",
        "   \"http://www.w3.org/TR/html4/strict.dtd\">\n",
        "\n",
        "<html>\n",
        "<head>\n",
        "  <title></title>\n",
        "  <meta http-equiv=\"content-type\" content=\"text/html; charset=None\">\n",
        "  <style type=\"text/css\">\n",
        "td.linenos { background-color: #f0f0f0; padding-right: 10px; }\n",
        "span.lineno { background-color: #f0f0f0; padding: 0 5px 0 5px; }\n",
        "pre { line-height: 125%; }\n",
        "body .hll { background-color: #e6e3c3 }\n",
        "body  { background: #fafafa; color: #272822 }\n",
        "body .c { color: #75715e } /* Comment */\n",
        "body .err { color: #960050; background-color: #1e0010 } /* Error */\n",
        "body .k { color: #00a8c8 } /* Keyword */\n",
        "body .l { color: #ae81ff } /* Literal */\n",
        "body .n { color: #111111 } /* Name */\n",
        "body .o { color: #f92672 } /* Operator */\n",
        "body .p { color: #111111 } /* Punctuation */\n",
        "body .cm { color: #75715e } /* Comment.Multiline */\n",
        "body .cp { color: #75715e } /* Comment.Preproc */\n",
        "body .c1 { color: #75715e } /* Comment.Single */\n",
        "body .cs { color: #75715e } /* Comment.Special */\n",
        "body .ge { font-style: italic } /* Generic.Emph */\n",
        "body .gs { font-weight: bold } /* Generic.Strong */\n",
        "body .kc { color: #00a8c8 } /* Keyword.Constant */\n",
        "body .kd { color: #00a8c8 } /* Keyword.Declaration */\n",
        "body .kn { color: #f92672 } /* Keyword.Namespace */\n",
        "body .kp { color: #00a8c8 } /* Keyword.Pseudo */\n",
        "body .kr { color: #00a8c8 } /* Keyword.Reserved */\n",
        "body .kt { color: #00a8c8 } /* Keyword.Type */\n",
        "body .ld { color: #d88200 } /* Literal.Date */\n",
        "body .m { color: #ae81ff } /* Literal.Number */\n",
        "body .s { color: #d88200 } /* Literal.String */\n",
        "body .na { color: #75af00 } /* Name.Attribute */\n",
        "body .nb { color: #111111 } /* Name.Builtin */\n",
        "body .nc { color: #75af00 } /* Name.Class */\n",
        "body .no { color: #00a8c8 } /* Name.Constant */\n",
        "body .nd { color: #75af00 } /* Name.Decorator */\n",
        "body .ni { color: #111111 } /* Name.Entity */\n",
        "body .ne { color: #75af00 } /* Name.Exception */\n",
        "body .nf { color: #75af00 } /* Name.Function */\n",
        "body .nl { color: #111111 } /* Name.Label */\n",
        "body .nn { color: #111111 } /* Name.Namespace */\n",
        "body .nx { color: #75af00 } /* Name.Other */\n",
        "body .py { color: #111111 } /* Name.Property */\n",
        "body .nt { color: #f92672 } /* Name.Tag */\n",
        "body .nv { color: #111111 } /* Name.Variable */\n",
        "body .ow { color: #f92672 } /* Operator.Word */\n",
        "body .w { color: #272822 } /* Text.Whitespace */\n",
        "body .mf { color: #ae81ff } /* Literal.Number.Float */\n",
        "body .mh { color: #ae81ff } /* Literal.Number.Hex */\n",
        "body .mi { color: #ae81ff } /* Literal.Number.Integer */\n",
        "body .mo { color: #ae81ff } /* Literal.Number.Oct */\n",
        "body .sb { color: #d88200 } /* Literal.String.Backtick */\n",
        "body .sc { color: #d88200 } /* Literal.String.Char */\n",
        "body .sd { color: #d88200 } /* Literal.String.Doc */\n",
        "body .s2 { color: #d88200 } /* Literal.String.Double */\n",
        "body .se { color: #8045FF } /* Literal.String.Escape */\n",
        "body .sh { color: #d88200 } /* Literal.String.Heredoc */\n",
        "body .si { color: #d88200 } /* Literal.String.Interpol */\n",
        "body .sx { color: #d88200 } /* Literal.String.Other */\n",
        "body .sr { color: #d88200 } /* Literal.String.Regex */\n",
        "body .s1 { color: #d88200 } /* Literal.String.Single */\n",
        "body .ss { color: #d88200 } /* Literal.String.Symbol */\n",
        "body .bp { color: #111111 } /* Name.Builtin.Pseudo */\n",
        "body .vc { color: #111111 } /* Name.Variable.Class */\n",
        "body .vg { color: #111111 } /* Name.Variable.Global */\n",
        "body .vi { color: #111111 } /* Name.Variable.Instance */\n",
        "body .il { color: #ae81ff } /* Literal.Number.Integer.Long */\n",
        "\n",
        "  </style>\n",
        "</head>\n",
        "<body>\n",
        "<h2></h2>\n",
        "\n",
        "<table class=\"highlighttable\"><tr><td class=\"linenos\"><div class=\"linenodiv\"><pre> 1\n",
        " 2\n",
        " 3\n",
        " 4\n",
        " 5\n",
        " 6\n",
        " 7\n",
        " 8\n",
        " 9\n",
        "10</pre></div></td><td class=\"code\"><div class=\"highlight\"><pre><span class=\"c\">#!/usr/bin/env python</span>\n",
        "\n",
        "<span class=\"kn\">import</span> <span class=\"nn\">numpy</span> <span class=\"kn\">as</span> <span class=\"nn\">np</span>\n",
        "\n",
        "<span class=\"n\">A</span> <span class=\"o\">=</span> <span class=\"n\">np</span><span class=\"o\">.</span><span class=\"n\">random</span><span class=\"o\">.</span><span class=\"n\">random</span><span class=\"p\">((</span><span class=\"mi\">4</span><span class=\"p\">,</span><span class=\"mi\">4</span><span class=\"p\">))</span>\n",
        "<span class=\"n\">Ainv</span> <span class=\"o\">=</span> <span class=\"n\">np</span><span class=\"o\">.</span><span class=\"n\">linalg</span><span class=\"o\">.</span><span class=\"n\">inv</span><span class=\"p\">(</span><span class=\"n\">A</span><span class=\"p\">)</span>\n",
        "\n",
        "<span class=\"k\">print</span> <span class=\"s\">&#39;A &#39;</span><span class=\"p\">,</span> <span class=\"n\">A</span>\n",
        "<span class=\"k\">print</span> <span class=\"s\">&#39;Ainv&#39;</span><span class=\"p\">,</span> <span class=\"n\">Ainv</span>\n",
        "<span class=\"k\">print</span> <span class=\"s\">&#39;A*Ainv&#39;</span><span class=\"p\">,</span> <span class=\"n\">np</span><span class=\"o\">.</span><span class=\"n\">dot</span><span class=\"p\">(</span><span class=\"n\">A</span><span class=\"p\">,</span><span class=\"n\">Ainv</span><span class=\"p\">)</span>\n",
        "</pre></div>\n",
        "</td></tr></table></body>\n",
        "</html>\n"
       ],
       "metadata": {},
       "output_type": "pyout",
       "prompt_number": 36,
       "text": [
        "<IPython.core.display.HTML at 0x10fee9fd0>"
       ]
      }
     ],
     "prompt_number": 36
    },
    {
     "cell_type": "markdown",
     "metadata": {},
     "source": [
      "That's it! Pygments makes it extremely easy to create syntax highlighted code snippets."
     ]
    }
   ],
   "metadata": {}
  }
 ]
}